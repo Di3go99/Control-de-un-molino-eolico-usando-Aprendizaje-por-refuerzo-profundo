{
 "cells": [
  {
   "cell_type": "code",
   "execution_count": null,
   "id": "cfe99081",
   "metadata": {},
   "outputs": [],
   "source": [
    "!pip install --upgrade pip\n",
    "!pip3 install tensorflow\n",
    "#!pip3 install tensorflow==2.4.0\n",
    "!pip install gym\n",
    "!pip install keras\n",
    "!pip install keras-rl2"
   ]
  },
  {
   "cell_type": "code",
   "execution_count": null,
   "id": "d38bb9ac",
   "metadata": {},
   "outputs": [],
   "source": [
    "!pip3 install tk"
   ]
  },
  {
   "cell_type": "code",
   "execution_count": 1,
   "id": "6b0e88c6",
   "metadata": {},
   "outputs": [],
   "source": [
    "from gym import Env\n",
    "from gym.spaces import Discrete, Box\n",
    "import numpy as np\n",
    "import random\n",
    "from tkinter import *\n",
    "import math"
   ]
  },
  {
   "cell_type": "code",
   "execution_count": 2,
   "id": "3727341e",
   "metadata": {},
   "outputs": [],
   "source": [
    "class ShowerEnv(Env):\n",
    "    def __init__(self):\n",
    "        \n",
    "        #Acctions up, down stay\n",
    "        self.action_space = Discrete(3)\n",
    "        \n",
    "        #Angle array\n",
    "        self.observation_space = Box(low=np.array([5]), high=np.array([14]))\n",
    "        \n",
    "        #Set static parameters\n",
    "        self.wind_density = 1.225\n",
    "        self.radious = 2\n",
    "        \n",
    "        #Set dynamic parameters\n",
    "        self.angle = random.uniform(5.0, 14.0)\n",
    "        self.wind = 10.0\n",
    "        self.error = 100000\n",
    "        self.power_eficiency = -0.0422*self.angle + 0.5911\n",
    "        self.genPowerEuler = 0.5*self.wind_density*math.pi*pow(self.radious, 2)*pow(self.wind, 3)*self.power_eficiency\n",
    "        \n",
    "        #Set training time\n",
    "        self.training_length = 60\n",
    "        \n",
    "        #Asking usr the energy\n",
    "        win = Tk()\n",
    "        \n",
    "        e = Entry(win)\n",
    "        e.pack()\n",
    "        e.insert(0, \"Energía\")\n",
    "        win.geometry(\"200x100\")\n",
    "        \n",
    "        def myClick():\n",
    "            global power\n",
    "            power = float(e.get())\n",
    "            win.quit()\n",
    "            win.withdraw()\n",
    "            \n",
    "        myButton = Button(win, text=\"Iniciar\", command = myClick)\n",
    "        myButton.pack()\n",
    "\n",
    "        win.mainloop()\n",
    "        \n",
    "        #Saving power in variable\n",
    "        self.power = power\n",
    "        \n",
    "    def step(self, action):\n",
    "        #Save the error from the previous step in a variable\n",
    "        last_error = self.error\n",
    "        #Reduces training time in 1 second\n",
    "        self.training_length -= 1\n",
    "        \n",
    "        #Calculates energy\n",
    "        for t in range(1, 30):\n",
    "            self.power_eficiency = -0.0422*self.angle + 0.5911\n",
    "            self.genPowerEuler += ((0.5*self.wind_density*math.pi*pow(self.radious, 2)*pow(self.wind, 3)*self.power_eficiency)/5 - self.genPowerEuler/5)*0.5\n",
    "            #Apply action\n",
    "            #0.0 - 0.1 = -0.1 (angle reduces in 0.1)\n",
    "            #0.1 - 0.1 = 0.0 (angle does not change)\n",
    "            #0.2 - 0.1 = 0.1 (angle increases in 0.1)\n",
    "            self.angle += (action/10.0) - 0.1\n",
    "            #self.error.append(abs(self.genPowerEuler - self.power))\n",
    "        \n",
    "        #Calculates error\n",
    "        self.error = abs(self.genPowerEuler - self.power)\n",
    "        \n",
    "        #Calculates reward\n",
    "        if self.error < last_error:\n",
    "            reward = 1\n",
    "        elif self.error == last_error:\n",
    "            reward = -1\n",
    "        else:\n",
    "            reward = -10\n",
    "        \n",
    "        #Check if the training finished\n",
    "        if self.training_length <=0:\n",
    "            done = True\n",
    "        else:\n",
    "            done = False\n",
    "            \n",
    "        #Wind disturbances\n",
    "        ###self.wind += random.uniform(-0.1,0.1)\n",
    "        \n",
    "        #placeholder for the info\n",
    "        info = {}\n",
    "        \n",
    "        #Return step information\n",
    "        return self.angle, reward, done, info\n",
    "    \n",
    "    def render(self):\n",
    "        pass\n",
    "        \n",
    "    def reset(self):\n",
    "        #Reset parameters\n",
    "        self.angle = random.uniform(5.0, 14.0)\n",
    "        self.wind = 10.0\n",
    "        self.power_eficiency = -0.0422*self.angle + 0.5911\n",
    "        self.genPowerEuler = 0.5*self.wind_density*math.pi*pow(self.radious, 2)*pow(self.wind, 3)*self.power_eficiency\n",
    "        \n",
    "        #Reset training time\n",
    "        self.training_length = 60\n",
    "        \n",
    "        return self.angle"
   ]
  },
  {
   "cell_type": "code",
   "execution_count": 18,
   "id": "594bcd9f",
   "metadata": {},
   "outputs": [
    {
     "name": "stderr",
     "output_type": "stream",
     "text": [
      "C:\\Users\\dgarr\\anaconda3\\lib\\site-packages\\gym\\logger.py:34: UserWarning: \u001b[33mWARN: Box bound precision lowered by casting to float32\u001b[0m\n",
      "  warnings.warn(colorize(\"%s: %s\" % (\"WARN\", msg % args), \"yellow\"))\n"
     ]
    }
   ],
   "source": [
    "env= ShowerEnv()"
   ]
  },
  {
   "cell_type": "code",
   "execution_count": null,
   "id": "51eff492",
   "metadata": {},
   "outputs": [],
   "source": []
  },
  {
   "cell_type": "code",
   "execution_count": 28,
   "id": "9cf1a710",
   "metadata": {},
   "outputs": [
    {
     "name": "stdout",
     "output_type": "stream",
     "text": [
      "Episode:1 Score:-248 Angulo:0.3933019426711941\n",
      "Episode:2 Score:-248 Angulo:15.242559518067367\n",
      "Episode:3 Score:-347 Angulo:4.39683474170384\n",
      "Episode:4 Score:-303 Angulo:0.3242609053761822\n",
      "Episode:5 Score:-325 Angulo:-5.7586618821482585\n",
      "Episode:6 Score:-325 Angulo:4.34905548297203\n",
      "Episode:7 Score:-281 Angulo:9.531192143491742\n",
      "Episode:8 Score:-369 Angulo:39.92428030190296\n",
      "Episode:9 Score:-358 Angulo:-23.982830722234468\n",
      "Episode:10 Score:-259 Angulo:1.5522779540060205\n"
     ]
    }
   ],
   "source": [
    "episodes = 10\n",
    "for episode in range(1, episodes+1):\n",
    "    state = env.reset()\n",
    "    done = False\n",
    "    score = 0\n",
    "    \n",
    "    while not done:\n",
    "        #env.render()\n",
    "        action = env.action_space.sample()\n",
    "        n_state, reward, done, info = env.step(action)\n",
    "        score += reward\n",
    "    print('Episode:{} Score:{} Angulo:{}'.format(episode, score, n_state))\n"
   ]
  },
  {
   "cell_type": "code",
   "execution_count": 5,
   "id": "32404dc8",
   "metadata": {},
   "outputs": [],
   "source": [
    "import numpy as np\n",
    "from tensorflow.keras.models import Sequential\n",
    "from tensorflow.keras.layers import Dense, Flatten\n",
    "from tensorflow.keras.optimizers import Adam"
   ]
  },
  {
   "cell_type": "code",
   "execution_count": 20,
   "id": "2dfbde0c",
   "metadata": {},
   "outputs": [],
   "source": [
    "states = env.observation_space.shape\n",
    "actions = env.action_space.n"
   ]
  },
  {
   "cell_type": "code",
   "execution_count": 7,
   "id": "caf1b938",
   "metadata": {},
   "outputs": [],
   "source": [
    "def build_model(states, actions):\n",
    "    model = Sequential()\n",
    "    model.add(Dense(24, activation='relu', input_shape = states))\n",
    "    model.add(Dense(24, activation='relu'))\n",
    "    model.add(Dense(actions, activation='linear'))\n",
    "    return model"
   ]
  },
  {
   "cell_type": "code",
   "execution_count": 13,
   "id": "7cc7395c",
   "metadata": {},
   "outputs": [],
   "source": [
    "del model"
   ]
  },
  {
   "cell_type": "code",
   "execution_count": 14,
   "id": "9d2b9fbb",
   "metadata": {},
   "outputs": [],
   "source": [
    "model = build_model(states, actions)"
   ]
  },
  {
   "cell_type": "code",
   "execution_count": 9,
   "id": "29f67be0",
   "metadata": {},
   "outputs": [
    {
     "name": "stdout",
     "output_type": "stream",
     "text": [
      "Model: \"sequential\"\n",
      "_________________________________________________________________\n",
      " Layer (type)                Output Shape              Param #   \n",
      "=================================================================\n",
      " dense (Dense)               (None, 24)                48        \n",
      "                                                                 \n",
      " dense_1 (Dense)             (None, 24)                600       \n",
      "                                                                 \n",
      " dense_2 (Dense)             (None, 3)                 75        \n",
      "                                                                 \n",
      "=================================================================\n",
      "Total params: 723\n",
      "Trainable params: 723\n",
      "Non-trainable params: 0\n",
      "_________________________________________________________________\n"
     ]
    }
   ],
   "source": [
    "model.summary()"
   ]
  },
  {
   "cell_type": "code",
   "execution_count": 10,
   "id": "c837da76",
   "metadata": {},
   "outputs": [],
   "source": [
    "from rl.agents import DQNAgent\n",
    "from rl.policy import BoltzmannQPolicy\n",
    "from rl.memory import SequentialMemory"
   ]
  },
  {
   "cell_type": "code",
   "execution_count": 24,
   "id": "a9fd3e74",
   "metadata": {},
   "outputs": [],
   "source": [
    "def build_agent(model, actions):\n",
    "    policy = BoltzmannQPolicy()\n",
    "    memory = SequentialMemory(limit=50000, window_length=1)\n",
    "    dqn = DQNAgent(model=model, memory=memory, policy=policy, nb_actions=actions, nb_steps_warmup=10, target_model_update=1e-2)\n",
    "    return dqn"
   ]
  },
  {
   "cell_type": "code",
   "execution_count": 27,
   "id": "2a022180",
   "metadata": {},
   "outputs": [
    {
     "name": "stdout",
     "output_type": "stream",
     "text": [
      "Training for 50000 steps ...\n",
      "Interval 1 (0 steps performed)\n",
      "10000/10000 [==============================] - 155s 16ms/step - reward: -3.9693\n",
      "166 episodes - episode_reward: -238.253 [-435.000, -31.000] - loss: 132.180 - mae: 88.270 - mean_q: -124.944\n",
      "\n",
      "Interval 2 (10000 steps performed)\n",
      "10000/10000 [==============================] - 153s 15ms/step - reward: -3.8667\n",
      "167 episodes - episode_reward: -232.120 [-505.000, -36.000] - loss: 132.610 - mae: 88.137 - mean_q: -124.292\n",
      "\n",
      "Interval 3 (20000 steps performed)\n",
      "10000/10000 [==============================] - 156s 16ms/step - reward: -3.4907\n",
      "167 episodes - episode_reward: -209.299 [-402.000, -18.000] - loss: 128.641 - mae: 87.013 - mean_q: -121.444\n",
      "\n",
      "Interval 4 (30000 steps performed)\n",
      "10000/10000 [==============================] - 158s 16ms/step - reward: -3.5946\n",
      "166 episodes - episode_reward: -215.663 [-424.000, -28.000] - loss: 116.739 - mae: 83.835 - mean_q: -115.677\n",
      "\n",
      "Interval 5 (40000 steps performed)\n",
      "10000/10000 [==============================] - 162s 16ms/step - reward: -3.7580\n",
      "done, took 785.120 seconds\n"
     ]
    },
    {
     "data": {
      "text/plain": [
       "<keras.callbacks.History at 0x1c05a7bbdf0>"
      ]
     },
     "execution_count": 27,
     "metadata": {},
     "output_type": "execute_result"
    }
   ],
   "source": [
    "dqn = build_agent(model, actions)\n",
    "dqn.compile(Adam(lr=1e-3), metrics=['mae'])\n",
    "dqn.fit(env, nb_steps=50000, visualize=False, verbose=1)"
   ]
  },
  {
   "cell_type": "code",
   "execution_count": 23,
   "id": "0dc38509",
   "metadata": {},
   "outputs": [
    {
     "name": "stdout",
     "output_type": "stream",
     "text": [
      "Testing for 100 episodes ...\n",
      "Episode 1: reward: -270.000, steps: 60\n",
      "Episode 2: reward: -270.000, steps: 60\n",
      "Episode 3: reward: -281.000, steps: 60\n",
      "Episode 4: reward: -270.000, steps: 60\n",
      "Episode 5: reward: -270.000, steps: 60\n",
      "Episode 6: reward: -270.000, steps: 60\n",
      "Episode 7: reward: -270.000, steps: 60\n",
      "Episode 8: reward: -270.000, steps: 60\n",
      "Episode 9: reward: -259.000, steps: 60\n",
      "Episode 10: reward: -259.000, steps: 60\n",
      "Episode 11: reward: -281.000, steps: 60\n",
      "Episode 12: reward: -259.000, steps: 60\n",
      "Episode 13: reward: -259.000, steps: 60\n",
      "Episode 14: reward: -270.000, steps: 60\n",
      "Episode 15: reward: -270.000, steps: 60\n",
      "Episode 16: reward: -281.000, steps: 60\n",
      "Episode 17: reward: -270.000, steps: 60\n",
      "Episode 18: reward: -259.000, steps: 60\n",
      "Episode 19: reward: -281.000, steps: 60\n",
      "Episode 20: reward: -259.000, steps: 60\n",
      "Episode 21: reward: -281.000, steps: 60\n",
      "Episode 22: reward: -270.000, steps: 60\n",
      "Episode 23: reward: -270.000, steps: 60\n",
      "Episode 24: reward: -270.000, steps: 60\n",
      "Episode 25: reward: -270.000, steps: 60\n",
      "Episode 26: reward: -270.000, steps: 60\n",
      "Episode 27: reward: -270.000, steps: 60\n",
      "Episode 28: reward: -270.000, steps: 60\n",
      "Episode 29: reward: -270.000, steps: 60\n",
      "Episode 30: reward: -270.000, steps: 60\n",
      "Episode 31: reward: -259.000, steps: 60\n",
      "Episode 32: reward: -270.000, steps: 60\n",
      "Episode 33: reward: -270.000, steps: 60\n",
      "Episode 34: reward: -270.000, steps: 60\n",
      "Episode 35: reward: -270.000, steps: 60\n",
      "Episode 36: reward: -270.000, steps: 60\n",
      "Episode 37: reward: -270.000, steps: 60\n",
      "Episode 38: reward: -270.000, steps: 60\n",
      "Episode 39: reward: -281.000, steps: 60\n",
      "Episode 40: reward: -259.000, steps: 60\n",
      "Episode 41: reward: -270.000, steps: 60\n",
      "Episode 42: reward: -270.000, steps: 60\n",
      "Episode 43: reward: -270.000, steps: 60\n",
      "Episode 44: reward: -270.000, steps: 60\n",
      "Episode 45: reward: -270.000, steps: 60\n",
      "Episode 46: reward: -270.000, steps: 60\n",
      "Episode 47: reward: -270.000, steps: 60\n",
      "Episode 48: reward: -270.000, steps: 60\n",
      "Episode 49: reward: -270.000, steps: 60\n",
      "Episode 50: reward: -259.000, steps: 60\n",
      "Episode 51: reward: -270.000, steps: 60\n",
      "Episode 52: reward: -270.000, steps: 60\n",
      "Episode 53: reward: -270.000, steps: 60\n",
      "Episode 54: reward: -259.000, steps: 60\n",
      "Episode 55: reward: -270.000, steps: 60\n",
      "Episode 56: reward: -259.000, steps: 60\n",
      "Episode 57: reward: -281.000, steps: 60\n",
      "Episode 58: reward: -270.000, steps: 60\n",
      "Episode 59: reward: -270.000, steps: 60\n",
      "Episode 60: reward: -270.000, steps: 60\n",
      "Episode 61: reward: -270.000, steps: 60\n",
      "Episode 62: reward: -259.000, steps: 60\n",
      "Episode 63: reward: -270.000, steps: 60\n",
      "Episode 64: reward: -259.000, steps: 60\n",
      "Episode 65: reward: -270.000, steps: 60\n",
      "Episode 66: reward: -281.000, steps: 60\n",
      "Episode 67: reward: -270.000, steps: 60\n",
      "Episode 68: reward: -259.000, steps: 60\n",
      "Episode 69: reward: -281.000, steps: 60\n",
      "Episode 70: reward: -259.000, steps: 60\n",
      "Episode 71: reward: -270.000, steps: 60\n",
      "Episode 72: reward: -270.000, steps: 60\n",
      "Episode 73: reward: -270.000, steps: 60\n",
      "Episode 74: reward: -281.000, steps: 60\n",
      "Episode 75: reward: -270.000, steps: 60\n",
      "Episode 76: reward: -270.000, steps: 60\n",
      "Episode 77: reward: -281.000, steps: 60\n",
      "Episode 78: reward: -270.000, steps: 60\n",
      "Episode 79: reward: -270.000, steps: 60\n",
      "Episode 80: reward: -270.000, steps: 60\n",
      "Episode 81: reward: -270.000, steps: 60\n",
      "Episode 82: reward: -270.000, steps: 60\n",
      "Episode 83: reward: -270.000, steps: 60\n",
      "Episode 84: reward: -270.000, steps: 60\n",
      "Episode 85: reward: -270.000, steps: 60\n",
      "Episode 86: reward: -270.000, steps: 60\n",
      "Episode 87: reward: -270.000, steps: 60\n",
      "Episode 88: reward: -259.000, steps: 60\n",
      "Episode 89: reward: -270.000, steps: 60\n",
      "Episode 90: reward: -259.000, steps: 60\n",
      "Episode 91: reward: -281.000, steps: 60\n",
      "Episode 92: reward: -270.000, steps: 60\n",
      "Episode 93: reward: -270.000, steps: 60\n",
      "Episode 94: reward: -281.000, steps: 60\n",
      "Episode 95: reward: -270.000, steps: 60\n",
      "Episode 96: reward: -270.000, steps: 60\n",
      "Episode 97: reward: -259.000, steps: 60\n",
      "Episode 98: reward: -270.000, steps: 60\n",
      "Episode 99: reward: -270.000, steps: 60\n",
      "Episode 100: reward: -270.000, steps: 60\n",
      "-269.45\n"
     ]
    }
   ],
   "source": [
    "scores = dqn.test(env, nb_episodes=100, visualize=False)\n",
    "print(np.mean(scores.history['episode_reward']))"
   ]
  },
  {
   "cell_type": "code",
   "execution_count": null,
   "id": "47fe356f",
   "metadata": {},
   "outputs": [],
   "source": []
  }
 ],
 "metadata": {
  "kernelspec": {
   "display_name": "Python 3 (ipykernel)",
   "language": "python",
   "name": "python3"
  },
  "language_info": {
   "codemirror_mode": {
    "name": "ipython",
    "version": 3
   },
   "file_extension": ".py",
   "mimetype": "text/x-python",
   "name": "python",
   "nbconvert_exporter": "python",
   "pygments_lexer": "ipython3",
   "version": "3.9.7"
  }
 },
 "nbformat": 4,
 "nbformat_minor": 5
}
