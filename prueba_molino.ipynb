{
 "cells": [
  {
   "cell_type": "code",
   "execution_count": null,
   "id": "cfe99081",
   "metadata": {},
   "outputs": [],
   "source": [
    "!pip install --upgrade pip\n",
    "!pip3 install tensorflow\n",
    "#!pip3 install tensorflow==2.4.0\n",
    "!pip install gym\n",
    "!pip install keras\n",
    "!pip install keras-rl2"
   ]
  },
  {
   "cell_type": "code",
   "execution_count": null,
   "id": "d38bb9ac",
   "metadata": {},
   "outputs": [],
   "source": [
    "!pip3 install tk"
   ]
  },
  {
   "cell_type": "code",
   "execution_count": 1,
   "id": "6b0e88c6",
   "metadata": {},
   "outputs": [],
   "source": [
    "from gym import Env\n",
    "from gym.spaces import Discrete, Box\n",
    "import numpy as np\n",
    "import random\n",
    "from tkinter import *\n",
    "import math"
   ]
  },
  {
   "cell_type": "code",
   "execution_count": 14,
   "id": "3727341e",
   "metadata": {},
   "outputs": [],
   "source": [
    "class ShowerEnv(Env):\n",
    "    def __init__(self):\n",
    "        #self.produced_energy = float(input(\"Energía a producir: \"))\n",
    "        \n",
    "        #Acctions up, down stay\n",
    "        self.action_space = Discrete(3)\n",
    "        #Angle array\n",
    "        self.observation_space = Box(low=np.array([0]), high=np.array([180]))\n",
    "        #Set start angle\n",
    "        self.state = random.uniform(0, 0.593)\n",
    "        #Set reaching energy producted\n",
    "        self.training_length = 60\n",
    "        \n",
    "        win = Tk()\n",
    "        \n",
    "        e = Entry(win)\n",
    "        e.pack()\n",
    "        e.insert(0, \"Energía\")\n",
    "        win.geometry(\"200x100\")\n",
    "        \n",
    "        def myClick():\n",
    "            global eficiency\n",
    "            energy = float(e.get())\n",
    "            eficiency = energy/((1/2)*1.225*math.pi*pow(2, 2)*pow(10, 3))\n",
    "            win.quit()\n",
    "            win.withdraw()\n",
    "            \n",
    "        myButton = Button(win, text=\"Iniciar\", command = myClick)\n",
    "        myButton.pack()\n",
    "        \n",
    "        win.mainloop()\n",
    "        \n",
    "    def step(self, action):\n",
    "        #Apply action\n",
    "        #si la accion es 0, le resta 1 = -1 (temp disminuye 1 grado)\n",
    "        #si la accion es 1, le resta 1 = 0 (temp ni aumenta ni disminuye)\n",
    "        #si la accion es 2, le resta 1 = 1 grados (temp aumenta 1 grado)\n",
    "        self.last_state = state\n",
    "        self.state += action - 1\n",
    "        #Reduce el tiempo de ducha en 1 segundo(el total de duracion es 60)\n",
    "        self.training_length -= 1\n",
    "        \n",
    "        #Calcula el reward\n",
    "        if abs(self.state-eficiency) < abs(self.last_state-eficiency):\n",
    "            reward = 1\n",
    "        elif abs(self.state-eficiency) == abs(self.last_state-eficiency):\n",
    "            reward = -1\n",
    "        else:\n",
    "            reward = -10\n",
    "        \n",
    "        #Checkea si la ducha ha terminado\n",
    "        if self.training_length <=0:\n",
    "            done = True\n",
    "        else:\n",
    "            done = False\n",
    "            \n",
    "        #Perturbaciones en el viento\n",
    "        self.state += random.randint(-10,10)\n",
    "        #placeholder para la info\n",
    "        info = {}\n",
    "        \n",
    "        #Retorna informacion del paso(step information)\n",
    "        return self.state, reward, done, info\n",
    "    \n",
    "    def render(self):\n",
    "        #visualización\n",
    "        win = Tk()\n",
    "        \n",
    "        win.geometry(\"750x250\")\n",
    "        def callback():\n",
    "            Label(win, text=\"Hello World!\", font=('Century 20 bold')).pack(pady=4)\n",
    "        \n",
    "        win.bind('<Return>',lambda event:callback())\n",
    "        #win.mainloop()\n",
    "        \n",
    "    def reset(self):\n",
    "        #Reseteamos el ángulo\n",
    "        self.state = random.randint(0,180)\n",
    "        #Reseteamos el tiempo de entreamiento\n",
    "        self.training_length = 60\n",
    "        return self.state"
   ]
  },
  {
   "cell_type": "code",
   "execution_count": 15,
   "id": "594bcd9f",
   "metadata": {},
   "outputs": [],
   "source": [
    "env= ShowerEnv()"
   ]
  },
  {
   "cell_type": "code",
   "execution_count": null,
   "id": "51eff492",
   "metadata": {},
   "outputs": [],
   "source": []
  },
  {
   "cell_type": "code",
   "execution_count": 16,
   "id": "9cf1a710",
   "metadata": {},
   "outputs": [
    {
     "name": "stdout",
     "output_type": "stream",
     "text": [
      "Episode:1 Score:-547\n",
      "Episode:2 Score:-281\n",
      "Episode:3 Score:-483\n",
      "Episode:4 Score:-448\n",
      "Episode:5 Score:-600\n",
      "Episode:6 Score:-591\n",
      "Episode:7 Score:34\n",
      "Episode:8 Score:49\n",
      "Episode:9 Score:-558\n",
      "Episode:10 Score:-446\n"
     ]
    }
   ],
   "source": [
    "episodes = 10\n",
    "for episode in range(1, episodes+1):\n",
    "    state = env.reset()\n",
    "    done = False\n",
    "    score = 0\n",
    "    \n",
    "    while not done:\n",
    "        #env.render()\n",
    "        action = env.action_space.sample()\n",
    "        n_state, reward, done, info = env.step(action)\n",
    "        score += reward\n",
    "    print('Episode:{} Score:{}'.format(episode, score))\n"
   ]
  },
  {
   "cell_type": "code",
   "execution_count": 17,
   "id": "32404dc8",
   "metadata": {},
   "outputs": [],
   "source": [
    "import numpy as np\n",
    "from tensorflow.keras.models import Sequential\n",
    "from tensorflow.keras.layers import Dense, Flatten\n",
    "from tensorflow.keras.optimizers import Adam"
   ]
  },
  {
   "cell_type": "code",
   "execution_count": 18,
   "id": "2dfbde0c",
   "metadata": {},
   "outputs": [],
   "source": [
    "states = env.observation_space.shape\n",
    "actions = env.action_space.n"
   ]
  },
  {
   "cell_type": "code",
   "execution_count": 19,
   "id": "caf1b938",
   "metadata": {},
   "outputs": [],
   "source": [
    "def build_model(states, actions):\n",
    "    model = Sequential()\n",
    "    model.add(Dense(24, activation='relu', input_shape = states))\n",
    "    model.add(Dense(24, activation='relu'))\n",
    "    model.add(Dense(actions, activation='linear'))\n",
    "    return model"
   ]
  },
  {
   "cell_type": "code",
   "execution_count": 25,
   "id": "7cc7395c",
   "metadata": {},
   "outputs": [],
   "source": [
    "del model"
   ]
  },
  {
   "cell_type": "code",
   "execution_count": 26,
   "id": "9d2b9fbb",
   "metadata": {},
   "outputs": [],
   "source": [
    "model = build_model(states, actions)"
   ]
  },
  {
   "cell_type": "code",
   "execution_count": 21,
   "id": "29f67be0",
   "metadata": {},
   "outputs": [
    {
     "name": "stdout",
     "output_type": "stream",
     "text": [
      "Model: \"sequential\"\n",
      "_________________________________________________________________\n",
      " Layer (type)                Output Shape              Param #   \n",
      "=================================================================\n",
      " dense (Dense)               (None, 24)                48        \n",
      "                                                                 \n",
      " dense_1 (Dense)             (None, 24)                600       \n",
      "                                                                 \n",
      " dense_2 (Dense)             (None, 3)                 75        \n",
      "                                                                 \n",
      "=================================================================\n",
      "Total params: 723\n",
      "Trainable params: 723\n",
      "Non-trainable params: 0\n",
      "_________________________________________________________________\n"
     ]
    }
   ],
   "source": [
    "model.summary()"
   ]
  },
  {
   "cell_type": "code",
   "execution_count": 22,
   "id": "c837da76",
   "metadata": {},
   "outputs": [],
   "source": [
    "from rl.agents import DQNAgent\n",
    "from rl.policy import BoltzmannQPolicy\n",
    "from rl.memory import SequentialMemory"
   ]
  },
  {
   "cell_type": "code",
   "execution_count": 27,
   "id": "a9fd3e74",
   "metadata": {},
   "outputs": [],
   "source": [
    "def build_agent(model, actions):\n",
    "    policy = BoltzmannQPolicy()\n",
    "    memory = SequentialMemory(limit=50000, window_length=1)\n",
    "    dqn = DQNAgent(model=model, memory=memory, policy=policy, nb_actions=actions, nb_steps_warmup=10, target_model_update=1e-2)\n",
    "    return dqn"
   ]
  },
  {
   "cell_type": "code",
   "execution_count": 28,
   "id": "2a022180",
   "metadata": {},
   "outputs": [
    {
     "name": "stdout",
     "output_type": "stream",
     "text": [
      "Training for 50000 steps ...\n",
      "Interval 1 (0 steps performed)\n",
      "\r",
      "    1/10000 [..............................] - ETA: 11:30 - reward: 1.0000"
     ]
    },
    {
     "name": "stderr",
     "output_type": "stream",
     "text": [
      "C:\\Users\\dgarr\\anaconda3\\lib\\site-packages\\keras\\engine\\training_v1.py:2079: UserWarning: `Model.state_updates` will be removed in a future version. This property should not be used in TensorFlow 2.0, as `updates` are applied automatically.\n",
      "  updates=self.state_updates,\n",
      "C:\\Users\\dgarr\\anaconda3\\lib\\site-packages\\rl\\memory.py:37: UserWarning: Not enough entries to sample without replacement. Consider increasing your warm-up phase to avoid oversampling!\n",
      "  warnings.warn('Not enough entries to sample without replacement. Consider increasing your warm-up phase to avoid oversampling!')\n"
     ]
    },
    {
     "name": "stdout",
     "output_type": "stream",
     "text": [
      "10000/10000 [==============================] - 64s 6ms/step - reward: 0.0581\n",
      "166 episodes - episode_reward: 3.259 [-600.000, 60.000] - loss: 34.328 - mae: 25.462 - mean_q: 5.306\n",
      "\n",
      "Interval 2 (10000 steps performed)\n",
      "10000/10000 [==============================] - 65s 6ms/step - reward: -0.1476\n",
      "167 episodes - episode_reward: -8.126 [-600.000, 60.000] - loss: 59.094 - mae: 33.180 - mean_q: 20.484\n",
      "\n",
      "Interval 3 (20000 steps performed)\n",
      "10000/10000 [==============================] - 66s 7ms/step - reward: 0.2448\n",
      "167 episodes - episode_reward: 14.186 [-600.000, 60.000] - loss: 72.632 - mae: 34.090 - mean_q: 20.827\n",
      "\n",
      "Interval 4 (30000 steps performed)\n",
      "10000/10000 [==============================] - 68s 7ms/step - reward: 0.2294\n",
      "166 episodes - episode_reward: 13.578 [-600.000, 60.000] - loss: 70.237 - mae: 32.536 - mean_q: 22.827\n",
      "\n",
      "Interval 5 (40000 steps performed)\n",
      "10000/10000 [==============================] - 69s 7ms/step - reward: 0.3872\n",
      "done, took 331.070 seconds\n"
     ]
    },
    {
     "data": {
      "text/plain": [
       "<keras.callbacks.History at 0x1c2a7211df0>"
      ]
     },
     "execution_count": 28,
     "metadata": {},
     "output_type": "execute_result"
    }
   ],
   "source": [
    "dqn = build_agent(model, actions)\n",
    "dqn.compile(Adam(lr=1e-3), metrics=['mae'])\n",
    "dqn.fit(env, nb_steps=50000, visualize=False, verbose=1)"
   ]
  },
  {
   "cell_type": "code",
   "execution_count": null,
   "id": "0dc38509",
   "metadata": {},
   "outputs": [],
   "source": []
  }
 ],
 "metadata": {
  "kernelspec": {
   "display_name": "Python 3 (ipykernel)",
   "language": "python",
   "name": "python3"
  },
  "language_info": {
   "codemirror_mode": {
    "name": "ipython",
    "version": 3
   },
   "file_extension": ".py",
   "mimetype": "text/x-python",
   "name": "python",
   "nbconvert_exporter": "python",
   "pygments_lexer": "ipython3",
   "version": "3.9.7"
  }
 },
 "nbformat": 4,
 "nbformat_minor": 5
}
