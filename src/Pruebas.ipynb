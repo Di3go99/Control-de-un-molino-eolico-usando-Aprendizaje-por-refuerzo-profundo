{
 "cells": [
  {
   "cell_type": "markdown",
   "id": "e00d3107",
   "metadata": {},
   "source": [
    "# Entorno de pruebas sobre el modelo\n",
    "## Bibliotecas"
   ]
  },
  {
   "cell_type": "code",
   "execution_count": 1,
   "id": "6b0e88c6",
   "metadata": {},
   "outputs": [],
   "source": [
    "#Aprendizaje por refuerzo\n",
    "from gym import Env\n",
    "from gym.spaces import Discrete, Box\n",
    "from rl.agents import DQNAgent\n",
    "from rl.policy import BoltzmannQPolicy\n",
    "from rl.memory import SequentialMemory\n",
    "\n",
    "#Red neuronal\n",
    "from tensorflow.keras.models import Sequential\n",
    "from tensorflow.keras.layers import Dense\n",
    "from tensorflow.keras.optimizers import Adam\n",
    "\n",
    "#Arrays y operaciones aritméticas\n",
    "import numpy as np\n",
    "import random\n",
    "import math\n",
    "\n",
    "#Aplicación web\n",
    "from werkzeug.wrappers import Request, Response\n",
    "from werkzeug.serving import run_simple\n",
    "from flask import Flask, render_template, request, redirect, url_for, flash\n",
    "from wtforms import Form, FloatField, validators\n",
    "\n",
    "#Gráficos e impresión por pantalla\n",
    "import io\n",
    "import matplotlib.pyplot as plt\n",
    "from matplotlib.backends.backend_agg import FigureCanvasAgg as FigureCanvas\n",
    "from matplotlib.figure import Figure\n",
    "import base64"
   ]
  },
  {
   "cell_type": "markdown",
   "id": "e256b224",
   "metadata": {},
   "source": [
    "## Entorno"
   ]
  },
  {
   "cell_type": "code",
   "execution_count": 2,
   "id": "3727341e",
   "metadata": {},
   "outputs": [],
   "source": [
    "class WindmillEnv(Env):\n",
    "    def __init__(self, pRef):\n",
    "        \n",
    "        #Número de acciones\n",
    "        self.action_space = Discrete(7)\n",
    "        \n",
    "        #Espacio de observación\n",
    "        self.observation_space = Box(low=np.array([5]), high=np.array([14]))\n",
    "        \n",
    "        #Tiempo de entrenamiento\n",
    "        self.training_length = 1000\n",
    "        \n",
    "        #Parámetros de la turbina\n",
    "        #Variables estáticas\n",
    "        self.wind_density = 1.225\n",
    "        self.radious = 2\n",
    "        self.wind = 10.0\n",
    "        self.powerRef = pRef\n",
    "        \n",
    "        #Variables dinámicas\n",
    "        self.angle = random.uniform(5.0, 14.0)\n",
    "        self.power_eficiency = (-0.0422)*self.angle + 0.5911\n",
    "        self.genPowerEuler = 0.5*self.wind_density*math.pi*pow(self.radious, 2)*pow(self.wind, 3)*self.power_eficiency\n",
    "        self.error = abs(self.powerRef - self.genPowerEuler)\n",
    "    \n",
    "    \n",
    "    def step(self, action):\n",
    "        \n",
    "        powerRefCheck = env.powerRef\n",
    "        \n",
    "        #Guardamos el error del paso anterior\n",
    "        last_error = self.error\n",
    "        \n",
    "        #Reducimos el tiempo de entrenamiento en 1 segundo\n",
    "        self.training_length -= 1\n",
    "        \n",
    "        #Aplicamos la acción tomada\n",
    "        self.angle += (action/10.0) - 0.01\n",
    "         \n",
    "        #Linealizamos el modelo de la turbina\n",
    "        for t in range(1, 151):\n",
    "            self.power_eficiency = (-0.0422)*self.angle + 0.5911\n",
    "            self.genPowerEuler += ((0.5*self.wind_density*math.pi*pow(self.radious, 2)*pow(self.wind, 3)\n",
    "                                    *self.power_eficiency)/5 - self.genPowerEuler/5)*0.5\n",
    "        \n",
    "        #Calculamos el error actual\n",
    "        self.error = abs(powerRefCheck - self.genPowerEuler)\n",
    "        \n",
    "        #Calculamos la recompensa\n",
    "        if self.error < last_error:\n",
    "            reward = 1 - (self.error/10)\n",
    "        if self.error > last_error:\n",
    "            reward = -100 - (self.error/10)\n",
    "        else:\n",
    "            reward = -50 - (self.error/10)\n",
    "            \n",
    "        #Comprobamos si el tiempo de entrenamiento ha llegado a 0\n",
    "        if self.training_length <= 0:\n",
    "            done = True\n",
    "        else:\n",
    "            done = False\n",
    "                \n",
    "        #Info\n",
    "        info = {}\n",
    "        \n",
    "        return self.angle, reward, done, info\n",
    "    \n",
    "    #Función para resetear los parámetros dinámicos\n",
    "    def reset(self):\n",
    "        \n",
    "        self.angle = random.uniform(5, 14)\n",
    "        self.power_eficiency = (-0.0422)*self.angle + 0.5911\n",
    "        self.genPowerEuler = 0.5*self.wind_density*math.pi*pow(self.radious, 2)*pow(self.wind, 3)*self.power_eficiency\n",
    "        self.error = abs(self.powerRef - self.genPowerEuler)\n",
    "        \n",
    "        self.training_length = 1000\n",
    "        \n",
    "        return self.angle\n",
    "    \n",
    "    \n",
    "    #GETTERS Y SETTERS\n",
    "    #Potencia de referencia\n",
    "    @property\n",
    "    def powerRefMethod(self):\n",
    "        return self.powerRef\n",
    "    \n",
    "    @powerRefMethod.setter\n",
    "    def powerRefMethod(self, powerRefv):\n",
    "        self.powerRef = powerRefv\n",
    "    \n",
    "    \n",
    "    #Potencia generada\n",
    "    @property\n",
    "    def genPowerEulerMethod(self):\n",
    "        return self.genPowerEuler\n",
    "    \n",
    "    @genPowerEulerMethod.setter\n",
    "    def genPowerEulerMethod(self, genPowerEulerv):\n",
    "        self.genPowerEuler = genPowerEulerv\n",
    "    \n",
    "    \n",
    "    #Ángulo\n",
    "    @property\n",
    "    def angleMethod(self):\n",
    "        return self.angle\n",
    "    \n",
    "    @angleMethod.setter\n",
    "    def angleMethod(self, anglev):\n",
    "        self.angle = anglev\n",
    "    \n",
    "    \n",
    "    #Tiempo de entrenamiento\n",
    "    @property\n",
    "    def training_lengthMethod(self):\n",
    "        return self.training_length\n",
    "    \n",
    "    @training_lengthMethod.setter\n",
    "    def training_lengthMethod(self, training_lengthv):\n",
    "        self.training_length = training_lengthv\n",
    "        \n",
    "    "
   ]
  },
  {
   "cell_type": "code",
   "execution_count": 3,
   "id": "2dfbde0c",
   "metadata": {},
   "outputs": [
    {
     "name": "stderr",
     "output_type": "stream",
     "text": [
      "C:\\Users\\dgarr\\anaconda3\\lib\\site-packages\\gym\\logger.py:34: UserWarning: \u001b[33mWARN: Box bound precision lowered by casting to float32\u001b[0m\n",
      "  warnings.warn(colorize(\"%s: %s\" % (\"WARN\", msg % args), \"yellow\"))\n"
     ]
    }
   ],
   "source": [
    "#Instanciamos el entorno en una variable\n",
    "env = WindmillEnv(1000)\n",
    "states = env.observation_space.shape\n",
    "actions = env.action_space.n"
   ]
  },
  {
   "cell_type": "markdown",
   "id": "d00d2948",
   "metadata": {},
   "source": [
    "## Red neuronal"
   ]
  },
  {
   "cell_type": "code",
   "execution_count": 4,
   "id": "caf1b938",
   "metadata": {},
   "outputs": [],
   "source": [
    "#Función para crer el modelo de la red neuronal\n",
    "def build_model(states, actions):\n",
    "    model = Sequential()\n",
    "    model.add(Dense(64, activation='relu', input_shape = states))\n",
    "    model.add(Dense(32, activation='relu'))\n",
    "    model.add(Dense(32, activation='relu'))\n",
    "    model.add(Dense(actions, activation='linear'))\n",
    "    return model"
   ]
  },
  {
   "cell_type": "code",
   "execution_count": 5,
   "id": "9d2b9fbb",
   "metadata": {},
   "outputs": [],
   "source": [
    "model = build_model(states, actions)"
   ]
  },
  {
   "cell_type": "markdown",
   "id": "485d0c9a",
   "metadata": {},
   "source": [
    "## Agente"
   ]
  },
  {
   "cell_type": "code",
   "execution_count": 6,
   "id": "a9fd3e74",
   "metadata": {},
   "outputs": [],
   "source": [
    "#Función para crear el agente\n",
    "def build_agent(model, actions):\n",
    "    memory = SequentialMemory(limit=30000, window_length=1)\n",
    "    dqn = DQNAgent(model=model, memory=memory, policy=BoltzmannQPolicy(), nb_actions=actions, nb_steps_warmup=1000)\n",
    "    return dqn"
   ]
  },
  {
   "cell_type": "markdown",
   "id": "3e9db393",
   "metadata": {},
   "source": [
    "## Entrenamiento"
   ]
  },
  {
   "cell_type": "code",
   "execution_count": 7,
   "id": "e1289d59",
   "metadata": {},
   "outputs": [
    {
     "name": "stdout",
     "output_type": "stream",
     "text": [
      "Training for 20000 steps ...\n",
      "Interval 1 (0 steps performed)\n",
      "   83/10000 [..............................] - ETA: 14s - reward: -407.0256"
     ]
    },
    {
     "name": "stderr",
     "output_type": "stream",
     "text": [
      "C:\\Users\\dgarr\\anaconda3\\lib\\site-packages\\keras\\engine\\training_v1.py:2079: UserWarning: `Model.state_updates` will be removed in a future version. This property should not be used in TensorFlow 2.0, as `updates` are applied automatically.\n",
      "  updates=self.state_updates,\n"
     ]
    },
    {
     "name": "stdout",
     "output_type": "stream",
     "text": [
      "10000/10000 [==============================] - 63s 6ms/step - reward: -1401.5181\n",
      "10 episodes - episode_reward: -1401518.072 [-4676215.130, -83409.868] - loss: 186741.976 - mae: 2253.751 - mean_q: -2562.261\n",
      "\n",
      "Interval 2 (10000 steps performed)\n",
      "10000/10000 [==============================] - 71s 7ms/step - reward: -542.5237\n",
      "done, took 133.629 seconds\n"
     ]
    },
    {
     "data": {
      "text/plain": [
       "<keras.callbacks.History at 0x2356e96c7c0>"
      ]
     },
     "execution_count": 7,
     "metadata": {},
     "output_type": "execute_result"
    }
   ],
   "source": [
    "#Compilación y entrenamiento del agente\n",
    "dqn = build_agent(model, actions)\n",
    "dqn.compile(Adam(learning_rate=1e-3), metrics=['mae'])\n",
    "dqn.fit(env, nb_steps=20000, visualize=False, verbose=1)"
   ]
  },
  {
   "cell_type": "markdown",
   "id": "fb77a8b5",
   "metadata": {},
   "source": [
    "## Pruebas"
   ]
  },
  {
   "cell_type": "code",
   "execution_count": 8,
   "id": "cdad5797",
   "metadata": {},
   "outputs": [
    {
     "name": "stdout",
     "output_type": "stream",
     "text": [
      "Episode:1 Score:-125567.44434203526 Steps:2000 Final Power:991.4623135973534\n"
     ]
    },
    {
     "data": {
      "image/png": "[encoded data removed]",
      "text/plain": [
       "<Figure size 432x288 with 1 Axes>"
      ]
     },
     "metadata": {
      "needs_background": "light"
     },
     "output_type": "display_data"
    }
   ],
   "source": [
    "episodes = 1\n",
    "powerArray = []\n",
    "anglesArray = []\n",
    "\n",
    "for episode in range(1, episodes+1):\n",
    "    obs = env.reset()\n",
    "    done = False\n",
    "    score = 0\n",
    "    env.training_lengthMethod = 2000\n",
    "    initTrainingLenght = env.training_lengthMethod\n",
    "    \n",
    "    powerArray.append(env.genPowerEuler)\n",
    "    anglesArray.append(env.angleMethod)\n",
    "    \n",
    "    env.powerRefMethod = 1000\n",
    "    \n",
    "    while not done:\n",
    "        action = dqn.forward(obs)\n",
    "        obs, reward, done, info = env.step(action)\n",
    "        score += reward\n",
    "            \n",
    "        powerArray.append(env.genPowerEuler)\n",
    "        anglesArray.append(env.angleMethod)\n",
    "        \n",
    "    print('Episode:{} Score:{} Steps:{} Final Power:{}'.format(episode, score, initTrainingLenght - env.training_lengthMethod, env.genPowerEuler))\n",
    "    \n",
    "plt.xlabel(\"steps\")\n",
    "plt.ylabel(\"power\")\n",
    "plt.axhline(y=env.powerRefMethod, color='r', linestyle='-')\n",
    "plt.plot(powerArray, 'b')\n",
    "plt.show()"
   ]
  },
  {
   "cell_type": "code",
   "execution_count": null,
   "id": "f541ad9f",
   "metadata": {},
   "outputs": [],
   "source": []
  }
 ],
 "metadata": {
  "kernelspec": {
   "display_name": "Python 3 (ipykernel)",
   "language": "python",
   "name": "python3"
  },
  "language_info": {
   "codemirror_mode": {
    "name": "ipython",
    "version": 3
   },
   "file_extension": ".py",
   "mimetype": "text/x-python",
   "name": "python",
   "nbconvert_exporter": "python",
   "pygments_lexer": "ipython3",
   "version": "3.9.7"
  }
 },
 "nbformat": 4,
 "nbformat_minor": 5
}
