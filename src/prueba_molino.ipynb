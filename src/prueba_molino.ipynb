{
 "cells": [
  {
   "cell_type": "markdown",
   "id": "69ec2867",
   "metadata": {},
   "source": [
    "# Dependencies"
   ]
  },
  {
   "cell_type": "code",
   "execution_count": 14,
   "id": "cfe99081",
   "metadata": {},
   "outputs": [
    {
     "name": "stdout",
     "output_type": "stream",
     "text": [
      "Requirement already satisfied: pip in c:\\users\\dgarr\\anaconda3\\lib\\site-packages (22.0.4)\n",
      "Collecting pip\n",
      "  Downloading pip-22.1.2-py3-none-any.whl (2.1 MB)\n",
      "     ---------------------------------------- 2.1/2.1 MB 6.5 MB/s eta 0:00:00\n",
      "Installing collected packages: pip\n",
      "  Attempting uninstall: pip\n",
      "    Found existing installation: pip 22.0.4\n",
      "    Uninstalling pip-22.0.4:\n",
      "      Successfully uninstalled pip-22.0.4\n"
     ]
    },
    {
     "name": "stderr",
     "output_type": "stream",
     "text": [
      "ERROR: Could not install packages due to an OSError: [WinError 5] Acceso denegado: 'C:\\\\Users\\\\dgarr\\\\AppData\\\\Local\\\\Temp\\\\pip-uninstall-2_vzn8my\\\\pip.exe'\n",
      "Consider using the `--user` option or check the permissions.\n",
      "\n"
     ]
    },
    {
     "name": "stdout",
     "output_type": "stream",
     "text": [
      "Requirement already satisfied: tensorflow in c:\\users\\dgarr\\anaconda3\\lib\\site-packages (2.8.0)\n",
      "Requirement already satisfied: numpy>=1.20 in c:\\users\\dgarr\\anaconda3\\lib\\site-packages (from tensorflow) (1.22.3)\n",
      "Requirement already satisfied: libclang>=9.0.1 in c:\\users\\dgarr\\anaconda3\\lib\\site-packages (from tensorflow) (13.0.0)\n",
      "Requirement already satisfied: absl-py>=0.4.0 in c:\\users\\dgarr\\anaconda3\\lib\\site-packages (from tensorflow) (0.15.0)\n",
      "Requirement already satisfied: tf-estimator-nightly==2.8.0.dev2021122109 in c:\\users\\dgarr\\anaconda3\\lib\\site-packages (from tensorflow) (2.8.0.dev2021122109)\n",
      "Requirement already satisfied: keras-preprocessing>=1.1.1 in c:\\users\\dgarr\\anaconda3\\lib\\site-packages (from tensorflow) (1.1.2)\n",
      "Requirement already satisfied: termcolor>=1.1.0 in c:\\users\\dgarr\\anaconda3\\lib\\site-packages (from tensorflow) (1.1.0)\n",
      "Requirement already satisfied: gast>=0.2.1 in c:\\users\\dgarr\\anaconda3\\lib\\site-packages (from tensorflow) (0.4.0)\n",
      "Requirement already satisfied: protobuf>=3.9.2 in c:\\users\\dgarr\\anaconda3\\lib\\site-packages (from tensorflow) (3.19.4)\n",
      "Requirement already satisfied: flatbuffers>=1.12 in c:\\users\\dgarr\\anaconda3\\lib\\site-packages (from tensorflow) (1.12)\n",
      "Requirement already satisfied: tensorflow-io-gcs-filesystem>=0.23.1 in c:\\users\\dgarr\\anaconda3\\lib\\site-packages (from tensorflow) (0.24.0)\n",
      "Requirement already satisfied: grpcio<2.0,>=1.24.3 in c:\\users\\dgarr\\anaconda3\\lib\\site-packages (from tensorflow) (1.34.1)\n",
      "Requirement already satisfied: tensorboard<2.9,>=2.8 in c:\\users\\dgarr\\anaconda3\\lib\\site-packages (from tensorflow) (2.8.0)\n",
      "Requirement already satisfied: six>=1.12.0 in c:\\users\\dgarr\\anaconda3\\lib\\site-packages (from tensorflow) (1.15.0)\n",
      "Requirement already satisfied: wrapt>=1.11.0 in c:\\users\\dgarr\\anaconda3\\lib\\site-packages (from tensorflow) (1.12.1)\n",
      "Requirement already satisfied: typing-extensions>=3.6.6 in c:\\users\\dgarr\\anaconda3\\lib\\site-packages (from tensorflow) (3.7.4.3)\n",
      "Requirement already satisfied: astunparse>=1.6.0 in c:\\users\\dgarr\\anaconda3\\lib\\site-packages (from tensorflow) (1.6.3)\n",
      "Requirement already satisfied: setuptools in c:\\users\\dgarr\\anaconda3\\lib\\site-packages (from tensorflow) (58.0.4)\n",
      "Requirement already satisfied: h5py>=2.9.0 in c:\\users\\dgarr\\anaconda3\\lib\\site-packages (from tensorflow) (3.1.0)\n",
      "Requirement already satisfied: opt-einsum>=2.3.2 in c:\\users\\dgarr\\anaconda3\\lib\\site-packages (from tensorflow) (3.3.0)\n",
      "Requirement already satisfied: keras<2.9,>=2.8.0rc0 in c:\\users\\dgarr\\anaconda3\\lib\\site-packages (from tensorflow) (2.8.0)\n",
      "Requirement already satisfied: google-pasta>=0.1.1 in c:\\users\\dgarr\\anaconda3\\lib\\site-packages (from tensorflow) (0.2.0)\n",
      "Requirement already satisfied: wheel<1.0,>=0.23.0 in c:\\users\\dgarr\\anaconda3\\lib\\site-packages (from astunparse>=1.6.0->tensorflow) (0.37.0)\n",
      "Requirement already satisfied: google-auth-oauthlib<0.5,>=0.4.1 in c:\\users\\dgarr\\anaconda3\\lib\\site-packages (from tensorboard<2.9,>=2.8->tensorflow) (0.4.6)\n",
      "Requirement already satisfied: werkzeug>=0.11.15 in c:\\users\\dgarr\\anaconda3\\lib\\site-packages (from tensorboard<2.9,>=2.8->tensorflow) (2.0.2)\n",
      "Requirement already satisfied: requests<3,>=2.21.0 in c:\\users\\dgarr\\anaconda3\\lib\\site-packages (from tensorboard<2.9,>=2.8->tensorflow) (2.26.0)\n",
      "Requirement already satisfied: markdown>=2.6.8 in c:\\users\\dgarr\\anaconda3\\lib\\site-packages (from tensorboard<2.9,>=2.8->tensorflow) (3.3.6)\n",
      "Requirement already satisfied: tensorboard-plugin-wit>=1.6.0 in c:\\users\\dgarr\\anaconda3\\lib\\site-packages (from tensorboard<2.9,>=2.8->tensorflow) (1.8.1)\n",
      "Requirement already satisfied: tensorboard-data-server<0.7.0,>=0.6.0 in c:\\users\\dgarr\\anaconda3\\lib\\site-packages (from tensorboard<2.9,>=2.8->tensorflow) (0.6.1)\n",
      "Requirement already satisfied: google-auth<3,>=1.6.3 in c:\\users\\dgarr\\anaconda3\\lib\\site-packages (from tensorboard<2.9,>=2.8->tensorflow) (2.6.0)\n",
      "Requirement already satisfied: rsa<5,>=3.1.4 in c:\\users\\dgarr\\anaconda3\\lib\\site-packages (from google-auth<3,>=1.6.3->tensorboard<2.9,>=2.8->tensorflow) (4.8)\n",
      "Requirement already satisfied: pyasn1-modules>=0.2.1 in c:\\users\\dgarr\\anaconda3\\lib\\site-packages (from google-auth<3,>=1.6.3->tensorboard<2.9,>=2.8->tensorflow) (0.2.8)\n",
      "Requirement already satisfied: cachetools<6.0,>=2.0.0 in c:\\users\\dgarr\\anaconda3\\lib\\site-packages (from google-auth<3,>=1.6.3->tensorboard<2.9,>=2.8->tensorflow) (5.0.0)\n",
      "Requirement already satisfied: requests-oauthlib>=0.7.0 in c:\\users\\dgarr\\anaconda3\\lib\\site-packages (from google-auth-oauthlib<0.5,>=0.4.1->tensorboard<2.9,>=2.8->tensorflow) (1.3.1)\n",
      "Requirement already satisfied: importlib-metadata>=4.4 in c:\\users\\dgarr\\anaconda3\\lib\\site-packages (from markdown>=2.6.8->tensorboard<2.9,>=2.8->tensorflow) (4.8.1)\n",
      "Requirement already satisfied: idna<4,>=2.5 in c:\\users\\dgarr\\anaconda3\\lib\\site-packages (from requests<3,>=2.21.0->tensorboard<2.9,>=2.8->tensorflow) (3.2)\n",
      "Requirement already satisfied: certifi>=2017.4.17 in c:\\users\\dgarr\\anaconda3\\lib\\site-packages (from requests<3,>=2.21.0->tensorboard<2.9,>=2.8->tensorflow) (2021.10.8)\n",
      "Requirement already satisfied: urllib3<1.27,>=1.21.1 in c:\\users\\dgarr\\anaconda3\\lib\\site-packages (from requests<3,>=2.21.0->tensorboard<2.9,>=2.8->tensorflow) (1.26.7)\n",
      "Requirement already satisfied: charset-normalizer~=2.0.0 in c:\\users\\dgarr\\anaconda3\\lib\\site-packages (from requests<3,>=2.21.0->tensorboard<2.9,>=2.8->tensorflow) (2.0.4)\n",
      "Requirement already satisfied: zipp>=0.5 in c:\\users\\dgarr\\anaconda3\\lib\\site-packages (from importlib-metadata>=4.4->markdown>=2.6.8->tensorboard<2.9,>=2.8->tensorflow) (3.6.0)\n",
      "Requirement already satisfied: pyasn1<0.5.0,>=0.4.6 in c:\\users\\dgarr\\anaconda3\\lib\\site-packages (from pyasn1-modules>=0.2.1->google-auth<3,>=1.6.3->tensorboard<2.9,>=2.8->tensorflow) (0.4.8)\n",
      "Requirement already satisfied: oauthlib>=3.0.0 in c:\\users\\dgarr\\anaconda3\\lib\\site-packages (from requests-oauthlib>=0.7.0->google-auth-oauthlib<0.5,>=0.4.1->tensorboard<2.9,>=2.8->tensorflow) (3.2.0)\n",
      "Requirement already satisfied: gym in c:\\users\\dgarr\\anaconda3\\lib\\site-packages (0.19.0)\n",
      "Requirement already satisfied: numpy>=1.18.0 in c:\\users\\dgarr\\anaconda3\\lib\\site-packages (from gym) (1.22.3)\n",
      "Requirement already satisfied: cloudpickle<1.7.0,>=1.2.0 in c:\\users\\dgarr\\anaconda3\\lib\\site-packages (from gym) (1.6.0)\n",
      "Requirement already satisfied: keras in c:\\users\\dgarr\\anaconda3\\lib\\site-packages (2.8.0)\n",
      "Requirement already satisfied: keras-rl2 in c:\\users\\dgarr\\anaconda3\\lib\\site-packages (1.0.5)\n",
      "Requirement already satisfied: tensorflow in c:\\users\\dgarr\\anaconda3\\lib\\site-packages (from keras-rl2) (2.8.0)\n",
      "Requirement already satisfied: tensorboard<2.9,>=2.8 in c:\\users\\dgarr\\anaconda3\\lib\\site-packages (from tensorflow->keras-rl2) (2.8.0)\n",
      "Requirement already satisfied: setuptools in c:\\users\\dgarr\\anaconda3\\lib\\site-packages (from tensorflow->keras-rl2) (58.0.4)\n",
      "Requirement already satisfied: keras-preprocessing>=1.1.1 in c:\\users\\dgarr\\anaconda3\\lib\\site-packages (from tensorflow->keras-rl2) (1.1.2)\n",
      "Requirement already satisfied: six>=1.12.0 in c:\\users\\dgarr\\anaconda3\\lib\\site-packages (from tensorflow->keras-rl2) (1.15.0)\n",
      "Requirement already satisfied: opt-einsum>=2.3.2 in c:\\users\\dgarr\\anaconda3\\lib\\site-packages (from tensorflow->keras-rl2) (3.3.0)\n",
      "Requirement already satisfied: gast>=0.2.1 in c:\\users\\dgarr\\anaconda3\\lib\\site-packages (from tensorflow->keras-rl2) (0.4.0)\n",
      "Requirement already satisfied: libclang>=9.0.1 in c:\\users\\dgarr\\anaconda3\\lib\\site-packages (from tensorflow->keras-rl2) (13.0.0)\n",
      "Requirement already satisfied: protobuf>=3.9.2 in c:\\users\\dgarr\\anaconda3\\lib\\site-packages (from tensorflow->keras-rl2) (3.19.4)\n",
      "Requirement already satisfied: keras<2.9,>=2.8.0rc0 in c:\\users\\dgarr\\anaconda3\\lib\\site-packages (from tensorflow->keras-rl2) (2.8.0)\n",
      "Requirement already satisfied: tf-estimator-nightly==2.8.0.dev2021122109 in c:\\users\\dgarr\\anaconda3\\lib\\site-packages (from tensorflow->keras-rl2) (2.8.0.dev2021122109)\n",
      "Requirement already satisfied: absl-py>=0.4.0 in c:\\users\\dgarr\\anaconda3\\lib\\site-packages (from tensorflow->keras-rl2) (0.15.0)\n",
      "Requirement already satisfied: wrapt>=1.11.0 in c:\\users\\dgarr\\anaconda3\\lib\\site-packages (from tensorflow->keras-rl2) (1.12.1)\n",
      "Requirement already satisfied: grpcio<2.0,>=1.24.3 in c:\\users\\dgarr\\anaconda3\\lib\\site-packages (from tensorflow->keras-rl2) (1.34.1)\n",
      "Requirement already satisfied: tensorflow-io-gcs-filesystem>=0.23.1 in c:\\users\\dgarr\\anaconda3\\lib\\site-packages (from tensorflow->keras-rl2) (0.24.0)\n",
      "Requirement already satisfied: typing-extensions>=3.6.6 in c:\\users\\dgarr\\anaconda3\\lib\\site-packages (from tensorflow->keras-rl2) (3.7.4.3)\n",
      "Requirement already satisfied: google-pasta>=0.1.1 in c:\\users\\dgarr\\anaconda3\\lib\\site-packages (from tensorflow->keras-rl2) (0.2.0)\n",
      "Requirement already satisfied: h5py>=2.9.0 in c:\\users\\dgarr\\anaconda3\\lib\\site-packages (from tensorflow->keras-rl2) (3.1.0)\n",
      "Requirement already satisfied: termcolor>=1.1.0 in c:\\users\\dgarr\\anaconda3\\lib\\site-packages (from tensorflow->keras-rl2) (1.1.0)\n",
      "Requirement already satisfied: astunparse>=1.6.0 in c:\\users\\dgarr\\anaconda3\\lib\\site-packages (from tensorflow->keras-rl2) (1.6.3)\n",
      "Requirement already satisfied: flatbuffers>=1.12 in c:\\users\\dgarr\\anaconda3\\lib\\site-packages (from tensorflow->keras-rl2) (1.12)\n",
      "Requirement already satisfied: numpy>=1.20 in c:\\users\\dgarr\\anaconda3\\lib\\site-packages (from tensorflow->keras-rl2) (1.22.3)\n",
      "Requirement already satisfied: wheel<1.0,>=0.23.0 in c:\\users\\dgarr\\anaconda3\\lib\\site-packages (from astunparse>=1.6.0->tensorflow->keras-rl2) (0.37.0)\n",
      "Requirement already satisfied: markdown>=2.6.8 in c:\\users\\dgarr\\anaconda3\\lib\\site-packages (from tensorboard<2.9,>=2.8->tensorflow->keras-rl2) (3.3.6)\n",
      "Requirement already satisfied: google-auth<3,>=1.6.3 in c:\\users\\dgarr\\anaconda3\\lib\\site-packages (from tensorboard<2.9,>=2.8->tensorflow->keras-rl2) (2.6.0)\n",
      "Requirement already satisfied: tensorboard-data-server<0.7.0,>=0.6.0 in c:\\users\\dgarr\\anaconda3\\lib\\site-packages (from tensorboard<2.9,>=2.8->tensorflow->keras-rl2) (0.6.1)\n",
      "Requirement already satisfied: werkzeug>=0.11.15 in c:\\users\\dgarr\\anaconda3\\lib\\site-packages (from tensorboard<2.9,>=2.8->tensorflow->keras-rl2) (2.0.2)\n",
      "Requirement already satisfied: requests<3,>=2.21.0 in c:\\users\\dgarr\\anaconda3\\lib\\site-packages (from tensorboard<2.9,>=2.8->tensorflow->keras-rl2) (2.26.0)\n",
      "Requirement already satisfied: google-auth-oauthlib<0.5,>=0.4.1 in c:\\users\\dgarr\\anaconda3\\lib\\site-packages (from tensorboard<2.9,>=2.8->tensorflow->keras-rl2) (0.4.6)\n",
      "Requirement already satisfied: tensorboard-plugin-wit>=1.6.0 in c:\\users\\dgarr\\anaconda3\\lib\\site-packages (from tensorboard<2.9,>=2.8->tensorflow->keras-rl2) (1.8.1)\n",
      "Requirement already satisfied: rsa<5,>=3.1.4 in c:\\users\\dgarr\\anaconda3\\lib\\site-packages (from google-auth<3,>=1.6.3->tensorboard<2.9,>=2.8->tensorflow->keras-rl2) (4.8)\n",
      "Requirement already satisfied: cachetools<6.0,>=2.0.0 in c:\\users\\dgarr\\anaconda3\\lib\\site-packages (from google-auth<3,>=1.6.3->tensorboard<2.9,>=2.8->tensorflow->keras-rl2) (5.0.0)\n",
      "Requirement already satisfied: pyasn1-modules>=0.2.1 in c:\\users\\dgarr\\anaconda3\\lib\\site-packages (from google-auth<3,>=1.6.3->tensorboard<2.9,>=2.8->tensorflow->keras-rl2) (0.2.8)\n",
      "Requirement already satisfied: requests-oauthlib>=0.7.0 in c:\\users\\dgarr\\anaconda3\\lib\\site-packages (from google-auth-oauthlib<0.5,>=0.4.1->tensorboard<2.9,>=2.8->tensorflow->keras-rl2) (1.3.1)\n",
      "Requirement already satisfied: importlib-metadata>=4.4 in c:\\users\\dgarr\\anaconda3\\lib\\site-packages (from markdown>=2.6.8->tensorboard<2.9,>=2.8->tensorflow->keras-rl2) (4.8.1)\n",
      "Requirement already satisfied: charset-normalizer~=2.0.0 in c:\\users\\dgarr\\anaconda3\\lib\\site-packages (from requests<3,>=2.21.0->tensorboard<2.9,>=2.8->tensorflow->keras-rl2) (2.0.4)\n",
      "Requirement already satisfied: idna<4,>=2.5 in c:\\users\\dgarr\\anaconda3\\lib\\site-packages (from requests<3,>=2.21.0->tensorboard<2.9,>=2.8->tensorflow->keras-rl2) (3.2)\n",
      "Requirement already satisfied: certifi>=2017.4.17 in c:\\users\\dgarr\\anaconda3\\lib\\site-packages (from requests<3,>=2.21.0->tensorboard<2.9,>=2.8->tensorflow->keras-rl2) (2021.10.8)\n",
      "Requirement already satisfied: urllib3<1.27,>=1.21.1 in c:\\users\\dgarr\\anaconda3\\lib\\site-packages (from requests<3,>=2.21.0->tensorboard<2.9,>=2.8->tensorflow->keras-rl2) (1.26.7)\n",
      "Requirement already satisfied: zipp>=0.5 in c:\\users\\dgarr\\anaconda3\\lib\\site-packages (from importlib-metadata>=4.4->markdown>=2.6.8->tensorboard<2.9,>=2.8->tensorflow->keras-rl2) (3.6.0)\n",
      "Requirement already satisfied: pyasn1<0.5.0,>=0.4.6 in c:\\users\\dgarr\\anaconda3\\lib\\site-packages (from pyasn1-modules>=0.2.1->google-auth<3,>=1.6.3->tensorboard<2.9,>=2.8->tensorflow->keras-rl2) (0.4.8)\n",
      "Requirement already satisfied: oauthlib>=3.0.0 in c:\\users\\dgarr\\anaconda3\\lib\\site-packages (from requests-oauthlib>=0.7.0->google-auth-oauthlib<0.5,>=0.4.1->tensorboard<2.9,>=2.8->tensorflow->keras-rl2) (3.2.0)\n"
     ]
    },
    {
     "name": "stdout",
     "output_type": "stream",
     "text": [
      "Requirement already satisfied: flask in c:\\users\\dgarr\\anaconda3\\lib\\site-packages (1.1.2)\n",
      "Requirement already satisfied: click>=5.1 in c:\\users\\dgarr\\anaconda3\\lib\\site-packages (from flask) (8.0.3)\n",
      "Requirement already satisfied: Werkzeug>=0.15 in c:\\users\\dgarr\\anaconda3\\lib\\site-packages (from flask) (2.0.2)\n",
      "Requirement already satisfied: itsdangerous>=0.24 in c:\\users\\dgarr\\anaconda3\\lib\\site-packages (from flask) (2.0.1)\n",
      "Requirement already satisfied: Jinja2>=2.10.1 in c:\\users\\dgarr\\anaconda3\\lib\\site-packages (from flask) (2.11.3)\n",
      "Requirement already satisfied: colorama in c:\\users\\dgarr\\anaconda3\\lib\\site-packages (from click>=5.1->flask) (0.4.4)\n",
      "Requirement already satisfied: MarkupSafe>=0.23 in c:\\users\\dgarr\\anaconda3\\lib\\site-packages (from Jinja2>=2.10.1->flask) (1.1.1)\n",
      "Requirement already satisfied: flask-wtf in c:\\users\\dgarr\\anaconda3\\lib\\site-packages (1.0.1)\n",
      "Requirement already satisfied: WTForms in c:\\users\\dgarr\\anaconda3\\lib\\site-packages (from flask-wtf) (3.0.1)\n",
      "Requirement already satisfied: Flask in c:\\users\\dgarr\\anaconda3\\lib\\site-packages (from flask-wtf) (1.1.2)\n",
      "Requirement already satisfied: itsdangerous in c:\\users\\dgarr\\anaconda3\\lib\\site-packages (from flask-wtf) (2.0.1)\n",
      "Requirement already satisfied: click>=5.1 in c:\\users\\dgarr\\anaconda3\\lib\\site-packages (from Flask->flask-wtf) (8.0.3)\n",
      "Requirement already satisfied: Werkzeug>=0.15 in c:\\users\\dgarr\\anaconda3\\lib\\site-packages (from Flask->flask-wtf) (2.0.2)\n",
      "Requirement already satisfied: Jinja2>=2.10.1 in c:\\users\\dgarr\\anaconda3\\lib\\site-packages (from Flask->flask-wtf) (2.11.3)\n",
      "Requirement already satisfied: MarkupSafe in c:\\users\\dgarr\\anaconda3\\lib\\site-packages (from WTForms->flask-wtf) (1.1.1)\n",
      "Requirement already satisfied: colorama in c:\\users\\dgarr\\anaconda3\\lib\\site-packages (from click>=5.1->Flask->flask-wtf) (0.4.4)\n"
     ]
    }
   ],
   "source": [
    "!pip install --upgrade pip\n",
    "!pip3 install tensorflow\n",
    "!pip install gym\n",
    "!pip install keras\n",
    "!pip install keras-rl2\n",
    "!pip3 install flask\n",
    "!pip3 install flask-wtf"
   ]
  },
  {
   "cell_type": "code",
   "execution_count": 1,
   "id": "6b0e88c6",
   "metadata": {},
   "outputs": [],
   "source": [
    "#RL libraries\n",
    "from gym import Env\n",
    "from gym.spaces import Discrete, Box\n",
    "from rl.agents import DQNAgent\n",
    "from rl.policy import BoltzmannQPolicy\n",
    "from rl.memory import SequentialMemory\n",
    "\n",
    "#Neural network libraries\n",
    "from tensorflow.keras.models import Sequential\n",
    "from tensorflow.keras.layers import Dense\n",
    "from tensorflow.keras.optimizers import Adam\n",
    "\n",
    "#Math libraries\n",
    "import numpy as np\n",
    "import random\n",
    "import math\n",
    "\n",
    "#Web server libraries\n",
    "from werkzeug.wrappers import Request, Response\n",
    "from werkzeug.serving import run_simple\n",
    "from flask import Flask, render_template, request, redirect, url_for\n",
    "from wtforms import Form, FloatField, validators\n",
    "\n",
    "#Visual libraries\n",
    "import io\n",
    "import matplotlib.pyplot as plt\n",
    "from matplotlib.backends.backend_agg import FigureCanvasAgg as FigureCanvas\n",
    "from matplotlib.figure import Figure"
   ]
  },
  {
   "cell_type": "code",
   "execution_count": null,
   "id": "f7218015",
   "metadata": {},
   "outputs": [
    {
     "name": "stderr",
     "output_type": "stream",
     "text": [
      " * Running on http://localhost:8000/ (Press CTRL+C to quit)\n",
      "[2022-06-23 19:47:41,484] ERROR in app: Exception on / [GET]\n",
      "Traceback (most recent call last):\n",
      "  File \"C:\\Users\\dgarr\\anaconda3\\lib\\site-packages\\flask\\app.py\", line 2447, in wsgi_app\n",
      "    response = self.full_dispatch_request()\n",
      "  File \"C:\\Users\\dgarr\\anaconda3\\lib\\site-packages\\flask\\app.py\", line 1952, in full_dispatch_request\n",
      "    rv = self.handle_user_exception(e)\n",
      "  File \"C:\\Users\\dgarr\\anaconda3\\lib\\site-packages\\flask\\app.py\", line 1821, in handle_user_exception\n",
      "    reraise(exc_type, exc_value, tb)\n",
      "  File \"C:\\Users\\dgarr\\anaconda3\\lib\\site-packages\\flask\\_compat.py\", line 39, in reraise\n",
      "    raise value\n",
      "  File \"C:\\Users\\dgarr\\anaconda3\\lib\\site-packages\\flask\\app.py\", line 1950, in full_dispatch_request\n",
      "    rv = self.dispatch_request()\n",
      "  File \"C:\\Users\\dgarr\\anaconda3\\lib\\site-packages\\flask\\app.py\", line 1936, in dispatch_request\n",
      "    return self.view_functions[rule.endpoint](**req.view_args)\n",
      "  File \"C:\\Users\\dgarr\\AppData\\Local\\Temp/ipykernel_14052/812475209.py\", line 49, in mainFunction\n",
      "    return render_template(\"RL.html\", form=form)\n",
      "  File \"C:\\Users\\dgarr\\anaconda3\\lib\\site-packages\\flask\\templating.py\", line 138, in render_template\n",
      "    ctx.app.jinja_env.get_or_select_template(template_name_or_list),\n",
      "  File \"C:\\Users\\dgarr\\anaconda3\\lib\\site-packages\\jinja2\\environment.py\", line 930, in get_or_select_template\n",
      "    return self.get_template(template_name_or_list, parent, globals)\n",
      "  File \"C:\\Users\\dgarr\\anaconda3\\lib\\site-packages\\jinja2\\environment.py\", line 883, in get_template\n",
      "    return self._load_template(name, self.make_globals(globals))\n",
      "  File \"C:\\Users\\dgarr\\anaconda3\\lib\\site-packages\\jinja2\\environment.py\", line 857, in _load_template\n",
      "    template = self.loader.load(self, name, globals)\n",
      "  File \"C:\\Users\\dgarr\\anaconda3\\lib\\site-packages\\jinja2\\loaders.py\", line 115, in load\n",
      "    source, filename, uptodate = self.get_source(environment, name)\n",
      "  File \"C:\\Users\\dgarr\\anaconda3\\lib\\site-packages\\flask\\templating.py\", line 60, in get_source\n",
      "    return self._get_source_fast(environment, template)\n",
      "  File \"C:\\Users\\dgarr\\anaconda3\\lib\\site-packages\\flask\\templating.py\", line 89, in _get_source_fast\n",
      "    raise TemplateNotFound(template)\n",
      "jinja2.exceptions.TemplateNotFound: RL.html\n",
      "127.0.0.1 - - [23/Jun/2022 19:47:41] \"GET / HTTP/1.1\" 500 -\n"
     ]
    }
   ],
   "source": [
    "app = Flask(__name__)\n",
    "\n",
    "class InputForm(Form):\n",
    "    r = FloatField(validators=[validators.InputRequired()])\n",
    "\n",
    "@app.route(\"/\", methods=[\"POST\", \"GET\"])\n",
    "def mainFunction():\n",
    "    \n",
    "    form = InputForm(request.form)\n",
    "    \n",
    "    if request.method == \"POST\":\n",
    "\n",
    "        powerR = form.r.data\n",
    "        env = WindmillEnv(powerR)\n",
    "        episodes = 10\n",
    "        powerArray = []\n",
    "        anglesArray = []\n",
    "\n",
    "        for episode in range(1, episodes+1):\n",
    "            obs = env.reset()\n",
    "            done = False\n",
    "            score = 0\n",
    "    \n",
    "            powerArray.append(env.genPowerEuler)\n",
    "            anglesArray.append(env.angle)\n",
    "    \n",
    "            while not done:\n",
    "                action = dqn.forward(obs)\n",
    "                obs, reward, done, info = env.step(action)\n",
    "                score += reward\n",
    "        \n",
    "                powerArray.append(env.genPowerEuler)\n",
    "                anglesArray.append(env.angle)\n",
    "        \n",
    "                #if env.error <= 33.0:\n",
    "                #    break\n",
    "        \n",
    "        figure = Figure()\n",
    "        plt = figure.add_subplot(1,1,1)\n",
    "        xs = range(90)\n",
    "        plt.axhline(y=env.powerRefMethod, color='r', linestyle='-')\n",
    "        plt.plot(powerArray, 'b')\n",
    "        output = io.BytesIO()\n",
    "        FigureCanvas(figure).print_png(output)\n",
    "        return Response(output.getvalue(), mimetype='image/png')\n",
    "\n",
    "    else:\n",
    "        \n",
    "        return render_template(\"RL.html\", form=form)\n",
    "\n",
    "if __name__ == '__main__':\n",
    "    run_simple('localhost', 8000, app)"
   ]
  },
  {
   "cell_type": "markdown",
   "id": "e256b224",
   "metadata": {},
   "source": [
    "# Enviroment"
   ]
  },
  {
   "cell_type": "code",
   "execution_count": 2,
   "id": "3727341e",
   "metadata": {},
   "outputs": [],
   "source": [
    "class WindmillEnv(Env):\n",
    "    def __init__(self, pRef):\n",
    "        \n",
    "        #Set action space\n",
    "        self.action_space = Discrete(7)\n",
    "        \n",
    "        #Set observation space\n",
    "        self.observation_space = Box(low=np.array([5]), high=np.array([14]))\n",
    "        \n",
    "        #Set training time\n",
    "        self.training_length = 90\n",
    "        \n",
    "        #SET WINDMILL PARAMETERS\n",
    "        #Static parameters\n",
    "        self.wind_density = 1.225\n",
    "        self.radious = 2\n",
    "        self.powerRef = pRef\n",
    "        self.powerRefFlag = pRef\n",
    "        \n",
    "        #Dynamic parameters\n",
    "        self.angle = random.uniform(5.0, 14.0)\n",
    "        self.wind = 10.0\n",
    "        self.power_eficiency = -0.0422*self.angle + 0.5911\n",
    "        self.genPowerEuler = 0.5*self.wind_density*math.pi*pow(self.radious, 2)*pow(self.wind, 3)*self.power_eficiency\n",
    "        self.error = abs(self.powerRef - self.genPowerEuler)\n",
    "        \n",
    "    def step(self, action):\n",
    "        #Save the error from the previous step in a variable\n",
    "        last_error = self.error\n",
    "        \n",
    "        #Reduces training time in 1 second\n",
    "        self.training_length -= 1\n",
    "        \n",
    "        #Apply action\n",
    "            #0.0 - 0.1 = -0.1 (angle reduces in 0.1)\n",
    "            #0.1 - 0.1 = 0.0 (angle does not change)\n",
    "            #0.2 - 0.1 = 0.1 (angle increases in 0.1)\n",
    "        self.angle += (action/10.0) - 0.1\n",
    "        \n",
    "        #Euler for Calculating energy\n",
    "        for t in range(1, 151):\n",
    "            self.power_eficiency = -0.0422*self.angle + 0.5911\n",
    "            self.genPowerEuler += ((0.5*self.wind_density*math.pi*pow(self.radious, 2)*pow(self.wind, 3)*self.power_eficiency)/5 - self.genPowerEuler/5)*0.5\n",
    "        \n",
    "        #Calculates final error\n",
    "        self.error = abs(self.powerRef - self.genPowerEuler)\n",
    "        \n",
    "        #Calculates reward\n",
    "        if self.error < last_error:\n",
    "            reward = 10\n",
    "        elif self.error == last_error:\n",
    "            reward = -1\n",
    "        else:\n",
    "            reward = -10\n",
    "        \n",
    "        #Check if the training finished\n",
    "        if self.training_length <= 0:\n",
    "            done = True\n",
    "        else:\n",
    "            done = False\n",
    "                \n",
    "        #placeholder for the info\n",
    "        info = {}\n",
    "        \n",
    "        #Return step information\n",
    "        return self.angle, reward, done, info\n",
    "    \n",
    "    def reset(self):\n",
    "        #Reset parameters\n",
    "        self.angle = random.uniform(5, 14)\n",
    "        self.wind = 10.0\n",
    "        self.power_eficiency = -0.0422*self.angle + 0.5911\n",
    "        self.genPowerEuler = 0.5*self.wind_density*math.pi*pow(self.radious, 2)*pow(self.wind, 3)*self.power_eficiency\n",
    "        self.error = abs(self.powerRef - self.genPowerEuler)\n",
    "        self.powerRef = self.powerRefFlag\n",
    "        \n",
    "        #Reset training time\n",
    "        self.training_length = 90\n",
    "        \n",
    "        return self.angle\n",
    "    \n",
    "    #PowerRef\n",
    "    @property\n",
    "    def powerRefMethod(self):\n",
    "        return self.powerRef\n",
    "    \n",
    "    @powerRefMethod.setter\n",
    "    def powerRefMethod(self, powerRefv):\n",
    "        self.powerRef = powerRefv\n",
    "        \n",
    "    #PowerGen\n",
    "    @property\n",
    "    def genPowerEulerMethod(self):\n",
    "        return self.genPowerEuler\n",
    "    \n",
    "    @genPowerEulerMethod.setter\n",
    "    def genPowerEulerMethod(self, genPowerEulerv):\n",
    "        self.genPowerEuler = genPowerEulerv\n",
    "    \n",
    "    #Angle\n",
    "    @property\n",
    "    def angleMethod(self):\n",
    "        return self.angle\n",
    "    \n",
    "    @angleMethod.setter\n",
    "    def angleMethod(self, anglev):\n",
    "        self.angle = anglev\n",
    "    \n",
    "    #Training length\n",
    "    @property\n",
    "    def training_lengthMethod(self):\n",
    "        return self.training_length\n",
    "    \n",
    "    @training_lengthMethod.setter\n",
    "    def training_lengthMethod(self, training_lengthv):\n",
    "        self.training_length = training_lengthv\n",
    "        \n",
    "    "
   ]
  },
  {
   "cell_type": "code",
   "execution_count": 3,
   "id": "594bcd9f",
   "metadata": {},
   "outputs": [
    {
     "name": "stderr",
     "output_type": "stream",
     "text": [
      "C:\\Users\\dgarr\\anaconda3\\lib\\site-packages\\gym\\logger.py:34: UserWarning: \u001b[33mWARN: Box bound precision lowered by casting to float32\u001b[0m\n",
      "  warnings.warn(colorize(\"%s: %s\" % (\"WARN\", msg % args), \"yellow\"))\n"
     ]
    }
   ],
   "source": [
    "env = WindmillEnv(1500)"
   ]
  },
  {
   "cell_type": "markdown",
   "id": "8e18c1ed",
   "metadata": {},
   "source": [
    "# Test with random actions"
   ]
  },
  {
   "cell_type": "code",
   "execution_count": null,
   "id": "04b3bd95",
   "metadata": {},
   "outputs": [],
   "source": [
    "episodes = 25\n",
    "powerArray = []\n",
    "anglesArray = []\n",
    "\n",
    "for episode in range(1, episodes+1):\n",
    "    state = env.reset()\n",
    "    done = False\n",
    "    score = 0\n",
    "    refPower = env.powerRef\n",
    "    \n",
    "    powerArray.append(env.genPowerEuler)\n",
    "    anglesArray.append(env.angle)\n",
    "    \n",
    "    while not done:\n",
    "        action = env.action_space.sample()\n",
    "        n_state, reward, done, info = env.step(action)\n",
    "        score += reward\n",
    "        \n",
    "        powerArray.append(env.genPowerEuler)\n",
    "        anglesArray.append(env.angle)\n",
    "        \n",
    "    print('Episode:{} Score:{} Angle:{}'.format(episode, score, n_state))\n",
    "    \n",
    "    plt.title(\"Power\"), plt.axhline(y=refPower, color='r', linestyle='-')\n",
    "    plt.plot(powerArray, 'b')\n",
    "    plt.show()\n",
    "    \n",
    "    #plt.title(\"Angle\"), plt.plot(anglesArray)\n",
    "    #plt.show()"
   ]
  },
  {
   "cell_type": "markdown",
   "id": "4b0069fb",
   "metadata": {},
   "source": [
    "# DQN Agent"
   ]
  },
  {
   "cell_type": "code",
   "execution_count": 12,
   "id": "2dfbde0c",
   "metadata": {},
   "outputs": [],
   "source": [
    "states = env.observation_space.shape\n",
    "actions = env.action_space.n"
   ]
  },
  {
   "cell_type": "code",
   "execution_count": 13,
   "id": "caf1b938",
   "metadata": {},
   "outputs": [],
   "source": [
    "def build_model(states, actions):\n",
    "    model = Sequential()\n",
    "    model.add(Dense(64, activation='relu', input_shape = states))\n",
    "    model.add(Dense(28, activation='relu'))\n",
    "    model.add(Dense(actions, activation='linear'))\n",
    "    return model"
   ]
  },
  {
   "cell_type": "code",
   "execution_count": 14,
   "id": "9d2b9fbb",
   "metadata": {},
   "outputs": [],
   "source": [
    "model = build_model(states, actions)"
   ]
  },
  {
   "cell_type": "code",
   "execution_count": 15,
   "id": "a9fd3e74",
   "metadata": {},
   "outputs": [],
   "source": [
    "def build_agent(model, actions):\n",
    "    memory = SequentialMemory(limit=50000, window_length=1)\n",
    "    dqn = DQNAgent(model=model, memory=memory, policy=BoltzmannQPolicy(), nb_actions=actions, nb_steps_warmup=1000)\n",
    "    return dqn"
   ]
  },
  {
   "cell_type": "markdown",
   "id": "3e9db393",
   "metadata": {},
   "source": [
    "# Traning"
   ]
  },
  {
   "cell_type": "code",
   "execution_count": 16,
   "id": "2a022180",
   "metadata": {},
   "outputs": [
    {
     "name": "stdout",
     "output_type": "stream",
     "text": [
      "Training for 10000 steps ...\n",
      "Interval 1 (0 steps performed)\n",
      "   80/10000 [..............................] - ETA: 14s - reward: -2.6250 "
     ]
    },
    {
     "name": "stderr",
     "output_type": "stream",
     "text": [
      "C:\\Users\\dgarr\\anaconda3\\lib\\site-packages\\keras\\engine\\training_v1.py:2079: UserWarning: `Model.state_updates` will be removed in a future version. This property should not be used in TensorFlow 2.0, as `updates` are applied automatically.\n",
      "  updates=self.state_updates,\n"
     ]
    },
    {
     "name": "stdout",
     "output_type": "stream",
     "text": [
      "10000/10000 [==============================] - 67s 7ms/step - reward: 1.4308\n",
      "done, took 66.794 seconds\n"
     ]
    },
    {
     "data": {
      "text/plain": [
       "<keras.callbacks.History at 0x183ba928eb0>"
      ]
     },
     "execution_count": 16,
     "metadata": {},
     "output_type": "execute_result"
    }
   ],
   "source": [
    "dqn = build_agent(model, actions)\n",
    "dqn.compile(Adam(learning_rate=1e-3), metrics=['mae'])\n",
    "dqn.fit(env, nb_steps=10000, visualize=False, verbose=1)"
   ]
  },
  {
   "cell_type": "markdown",
   "id": "6c8c4a0c",
   "metadata": {},
   "source": [
    "# Testing the trained agent"
   ]
  },
  {
   "cell_type": "code",
   "execution_count": 21,
   "id": "0dc38509",
   "metadata": {},
   "outputs": [
    {
     "name": "stdout",
     "output_type": "stream",
     "text": [
      "Testing for 10 episodes ...\n",
      "Episode 1: reward: 20.000, steps: 90\n",
      "Episode 2: reward: 80.000, steps: 90\n",
      "Episode 3: reward: 20.000, steps: 90\n",
      "Episode 4: reward: 400.000, steps: 90\n",
      "Episode 5: reward: 80.000, steps: 90\n",
      "Episode 6: reward: 60.000, steps: 90\n",
      "Episode 7: reward: 100.000, steps: 90\n",
      "Episode 8: reward: 220.000, steps: 90\n",
      "Episode 9: reward: 460.000, steps: 90\n",
      "Episode 10: reward: 360.000, steps: 90\n",
      "180.0\n"
     ]
    }
   ],
   "source": [
    "scores = dqn.test(env, nb_episodes=10, visualize=False)\n",
    "print(np.mean(scores.history['episode_reward']))"
   ]
  },
  {
   "cell_type": "code",
   "execution_count": 56,
   "id": "8d9a3659",
   "metadata": {},
   "outputs": [
    {
     "data": {
      "text/plain": [
       "1500"
      ]
     },
     "execution_count": 56,
     "metadata": {},
     "output_type": "execute_result"
    }
   ],
   "source": [
    "env.powerRef"
   ]
  },
  {
   "cell_type": "markdown",
   "id": "842cb634",
   "metadata": {},
   "source": [
    "# Test without disturbances or changes in reference power"
   ]
  },
  {
   "cell_type": "code",
   "execution_count": 22,
   "id": "136c681e",
   "metadata": {},
   "outputs": [
    {
     "name": "stdout",
     "output_type": "stream",
     "text": [
      "Episode:1 Score:320 Steps:2000 Power:1461.884208909001\n"
     ]
    },
    {
     "data": {
      "image/png": "[encoded data removed]",
      "text/plain": [
       "<Figure size 432x288 with 1 Axes>"
      ]
     },
     "metadata": {
      "needs_background": "light"
     },
     "output_type": "display_data"
    }
   ],
   "source": [
    "episodes = 1\n",
    "\n",
    "for episode in range(1, episodes+1):\n",
    "    obs = env.reset()\n",
    "    done = False\n",
    "    score = 0\n",
    "    refPower = env.powerRef\n",
    "    powerArray = []\n",
    "    anglesArray = []\n",
    "    env.training_length = 2000\n",
    "    initTrainingLenght = env.training_length\n",
    "    \n",
    "    powerArray.append(env.genPowerEuler)\n",
    "    anglesArray.append(env.angle)\n",
    "    \n",
    "    while not done:\n",
    "        action = dqn.forward(obs)\n",
    "        obs, reward, done, info = env.step(action)\n",
    "        score += reward\n",
    "        \n",
    "        powerArray.append(env.genPowerEuler)\n",
    "        anglesArray.append(env.angle)\n",
    "        \n",
    "        #if env.error <= 16.0:\n",
    "        #    break\n",
    "        \n",
    "    print('Episode:{} Score:{} Steps:{} Power:{}'.format(episode, score, initTrainingLenght - env.training_length, env.genPowerEuler))\n",
    "    \n",
    "    plt.title(\"Trained model without disturbances\"), plt.axhline(y=refPower, color='r', linestyle='-')\n",
    "    plt.xlabel(\"steps\")\n",
    "    plt.ylabel(\"power\")\n",
    "    plt.plot(powerArray, 'b')\n",
    "    plt.show()\n",
    "    \n",
    "    #plt.title(\"Angle\"), plt.plot(anglesArray)\n",
    "    #plt.show()"
   ]
  },
  {
   "cell_type": "markdown",
   "id": "7b840fc9",
   "metadata": {},
   "source": [
    "# Test for wind disturbances"
   ]
  },
  {
   "cell_type": "code",
   "execution_count": null,
   "id": "68fd7a1c",
   "metadata": {},
   "outputs": [],
   "source": [
    "episodes = 1\n",
    "\n",
    "for episode in range(1, episodes+1):\n",
    "    obs = env.reset()\n",
    "    done = False\n",
    "    score = 0\n",
    "    powerArray = []\n",
    "    anglesArray = []\n",
    "    refPower = env.powerRef\n",
    "    env.training_length = 2000\n",
    "    initTrainingLenght = env.training_length\n",
    "    \n",
    "    powerArray.append(env.genPowerEuler)\n",
    "    anglesArray.append(env.angle)\n",
    "    \n",
    "    while not done:\n",
    "        action = dqn.forward(obs)\n",
    "        obs, reward, done, info = env.step(action)\n",
    "        score += reward\n",
    "        \n",
    "        if env.training_length % 200 == 0:\n",
    "            env.wind += random.uniform(-0.5,0.5)\n",
    "        \n",
    "        powerArray.append(env.genPowerEuler)\n",
    "        anglesArray.append(env.angle)\n",
    "        \n",
    "        #if env.error <= 16.0:\n",
    "        #    break\n",
    "        \n",
    "    print('Episode:{} Score:{} Steps:{} Power:{}'.format(episode, score, initTrainingLenght - env.training_length, env.genPowerEuler))\n",
    "    \n",
    "    plt.title(\"Trained model with wind disturbances\"), plt.axhline(y=refPower, color='r', linestyle='-')\n",
    "    plt.xlabel(\"steps\")\n",
    "    plt.ylabel(\"power\")\n",
    "    plt.plot(powerArray, 'b')\n",
    "    plt.show()\n",
    "    \n",
    "    #plt.title(\"Angle\"), plt.plot(anglesArray)\n",
    "    #plt.show()"
   ]
  },
  {
   "cell_type": "markdown",
   "id": "91ea7707",
   "metadata": {},
   "source": [
    "# Test for changes in the SP (reference power)"
   ]
  },
  {
   "cell_type": "code",
   "execution_count": 36,
   "id": "c76fd1c1",
   "metadata": {},
   "outputs": [
    {
     "name": "stdout",
     "output_type": "stream",
     "text": [
      "Episode:1 Score:280 Steps:2000 Power:1481.7296925625317\n"
     ]
    },
    {
     "data": {
      "image/png": "[encoded data removed]",
      "text/plain": [
       "<Figure size 432x288 with 1 Axes>"
      ]
     },
     "metadata": {
      "needs_background": "light"
     },
     "output_type": "display_data"
    }
   ],
   "source": [
    "episodes = 1\n",
    "\n",
    "for episode in range(1, episodes+1):\n",
    "    obs = env.reset()\n",
    "    done = False\n",
    "    score = 0\n",
    "    powerArray = []\n",
    "    anglesArray = []\n",
    "    powerRefArray = []\n",
    "    env.training_lengthMethod = 2000\n",
    "    initTrainingLenght = env.training_lengthMethod\n",
    "    \n",
    "    powerArray.append(env.genPowerEulerMethod)\n",
    "    anglesArray.append(env.angleMethod)\n",
    "    powerRefArray.append(env.powerRefMethod)\n",
    "    \n",
    "    while not done:\n",
    "        action = dqn.forward(obs)\n",
    "        obs, reward, done, info = env.step(action)\n",
    "        score += reward\n",
    "        \n",
    "        if env.training_lengthMethod % 200 == 0:\n",
    "            #env.genPowerEulerMethod += random.uniform(-300.0,300.0)\n",
    "            env.powerRefMethod += random.uniform(-300.0,300.0)\n",
    "            #env.angleMethod += random.uniform(-0.5,0.5)\n",
    "            \n",
    "        powerArray.append(env.genPowerEulerMethod)\n",
    "        anglesArray.append(env.angleMethod)\n",
    "        powerRefArray.append(env.powerRefMethod)\n",
    "        \n",
    "        #if env.error <= 16.0:\n",
    "        #    break\n",
    "        \n",
    "    print('Episode:{} Score:{} Steps:{} Power:{}'.format(episode, score, initTrainingLenght - env.training_lengthMethod, env.genPowerEulerMethod))\n",
    "    \n",
    "    plt.title(\"Trained model with changes in reference power\")\n",
    "    plt.xlabel(\"steps\")\n",
    "    plt.ylabel(\"power\")\n",
    "    plt.plot(powerRefArray, 'r')\n",
    "    plt.plot(powerArray, 'b')\n",
    "    plt.show()"
   ]
  },
  {
   "cell_type": "code",
   "execution_count": 12,
   "id": "65eb3cb1",
   "metadata": {},
   "outputs": [
    {
     "data": {
      "text/plain": [
       "900"
      ]
     },
     "execution_count": 12,
     "metadata": {},
     "output_type": "execute_result"
    }
   ],
   "source": []
  },
  {
   "cell_type": "code",
   "execution_count": null,
   "id": "0f02f802",
   "metadata": {},
   "outputs": [],
   "source": []
  }
 ],
 "metadata": {
  "kernelspec": {
   "display_name": "Python 3 (ipykernel)",
   "language": "python",
   "name": "python3"
  },
  "language_info": {
   "codemirror_mode": {
    "name": "ipython",
    "version": 3
   },
   "file_extension": ".py",
   "mimetype": "text/x-python",
   "name": "python",
   "nbconvert_exporter": "python",
   "pygments_lexer": "ipython3",
   "version": "3.9.7"
  }
 },
 "nbformat": 4,
 "nbformat_minor": 5
}
